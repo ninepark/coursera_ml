{
 "cells": [
  {
   "cell_type": "markdown",
   "metadata": {},
   "source": [
    "# Machine Learning Online Class\n",
    "Exercise 5 | Regularized Linear Regression and Bias-Variance\n",
    "\n",
    "Instructions\n",
    "\n",
    "This file contains code that helps you get started on the exercise. You will need to complete the following functions:\n",
    "\n",
    "- linearRegCostFunction.m\n",
    "- learningCurve.m\n",
    "- validationCurve.m\n",
    "\n",
    "For this exercise, you will not need to change any code in this file, or any other files other than those mentioned above."
   ]
  },
  {
   "cell_type": "code",
   "execution_count": 232,
   "metadata": {},
   "outputs": [],
   "source": [
    "# import library\n",
    "import pandas as pd\n",
    "import numpy as np\n",
    "import matplotlib.pyplot as plt"
   ]
  },
  {
   "cell_type": "markdown",
   "metadata": {},
   "source": [
    "Part 1: Loading and Visualizing Data \n",
    "\n",
    "We start the exercise by first loading and visualizing the dataset. \n",
    "The following code will load the dataset into your environment and plot the data.\n",
    "\n"
   ]
  },
  {
   "cell_type": "markdown",
   "metadata": {},
   "source": [
    "##### Loading Data\n",
    "You will have X, y, Xval, yval, Xtest, ytest in your environment."
   ]
  },
  {
   "cell_type": "code",
   "execution_count": 198,
   "metadata": {
    "scrolled": false
   },
   "outputs": [],
   "source": [
    "# Load Trainig Data\n",
    "X = pd.read_csv('../machine-learning-ex5/ex5/ml_ex5_X.csv')\n",
    "y = pd.read_csv('../machine-learning-ex5/ex5/ml_ex5_y.csv')\n",
    "# cross validation set\n",
    "Xval = pd.read_csv('../machine-learning-ex5/ex5/ml_ex5_Xval.csv')\n",
    "yval = pd.read_csv('../machine-learning-ex5/ex5/ml_ex5_yval.csv')\n",
    "# test set\n",
    "Xtest = pd.read_csv('../machine-learning-ex5/ex5/ml_ex5_Xtest.csv')\n",
    "ytest = pd.read_csv('../machine-learning-ex5/ex5/ml_ex5_ytest.csv')"
   ]
  },
  {
   "cell_type": "code",
   "execution_count": 199,
   "metadata": {},
   "outputs": [],
   "source": [
    "# convert pd.dataframe to np.arrauy\n",
    "X = np.array(X)\n",
    "y = np.array(y)\n",
    "Xval = np.array(Xval) \n",
    "yval = np.array(yval)\n",
    "Xtest = np.array(Xtest)\n",
    "ytest = np.array(ytest)"
   ]
  },
  {
   "cell_type": "code",
   "execution_count": 107,
   "metadata": {},
   "outputs": [],
   "source": [
    "# m = number of examples\n",
    "m = len(X)"
   ]
  },
  {
   "cell_type": "code",
   "execution_count": 106,
   "metadata": {
    "scrolled": true
   },
   "outputs": [
    {
     "data": {
      "image/png": "[encoded data removed]",
      "text/plain": [
       "<matplotlib.figure.Figure at 0x115b29668>"
      ]
     },
     "metadata": {},
     "output_type": "display_data"
    }
   ],
   "source": [
    "# plot training data\n",
    "plt.scatter(X, y, c='r', marker='x')\n",
    "plt.xlabel(\"Change in water level (X)\")\n",
    "plt.ylabel(\"Water flowing out of the dam (y)\")\n",
    "plt.title(\"Figure 1: Data\")\n",
    "plt.xlim(-50, 40)\n",
    "plt.ylim(0, 40)\n",
    "plt.show()"
   ]
  },
  {
   "cell_type": "markdown",
   "metadata": {},
   "source": [
    "Part 2: Regularized Linear Regression Cost\n",
    "\n",
    "You should now implement the cost function for regularized linear regression. "
   ]
  },
  {
   "cell_type": "markdown",
   "metadata": {},
   "source": [
    "Part 3: Regularized Linear Regression Gradient\n",
    "\n",
    "You should now implement the gradient for regularized linear regression.\n"
   ]
  },
  {
   "cell_type": "markdown",
   "metadata": {},
   "source": [
    "##### LINEARREGCOSTFUNCTION Compute \n",
    "cost and gradient for regularized linear regression with multiple variables\n",
    "\n",
    "`[J, grad] = LINEARREGCOSTFUNCTION(X, y, theta, lambda)` computes the cost of using theta as the parameter for linear regression to fit the data points in X and y. Returns the cost in J and the gradient in grad"
   ]
  },
  {
   "cell_type": "markdown",
   "metadata": {},
   "source": [
    "====================== YOUR CODE HERE ======================\n",
    "###### Instructions: \n",
    "Compute the cost and gradient of regularized linear regression for a particular choice of theta. You should set J to the cost and grad to the gradient."
   ]
  },
  {
   "cell_type": "code",
   "execution_count": 237,
   "metadata": {},
   "outputs": [],
   "source": [
    "def linearRegCostFunction(X, y, theta, lamb):\n",
    "    # Initialize some useful values\n",
    "    m = len(y)  # number of training examples\n",
    "    J = 0\n",
    "    grad = np.zeros(len(theta))\n",
    "    \n",
    "    X = np.hstack((np.ones([m, 1]), X))\n",
    "    h = np.dot(X, theta)\n",
    "    \n",
    "    # Regularized Linear Regression Cost\n",
    "    J = sum(np.square(h-y))/(2*m)\\\n",
    "        + lamb*sum(np.square(theta[1:]))/(2*m)\n",
    "    \n",
    "    # Regularized Linear Regression Gradient\n",
    "    grad[0] = sum((h-y)*(Xh[:,0].reshape(m, 1)))/m\n",
    "    grad[1:] = sum((h-y)*Xh[:,1:])/m + lamb/m*theta[1:]\n",
    "    \n",
    "    return J[0], grad"
   ]
  },
  {
   "cell_type": "code",
   "execution_count": 238,
   "metadata": {},
   "outputs": [],
   "source": [
    "theta = np.array([[1], [1]])\n",
    "lamb = 1\n",
    "J, grad = linearRegCostFunction(X, y, theta, lamb)"
   ]
  },
  {
   "cell_type": "code",
   "execution_count": 244,
   "metadata": {},
   "outputs": [
    {
     "name": "stdout",
     "output_type": "stream",
     "text": [
      "Cost at theta= [[1], [1]]: \"303.9931922202643\"\n",
      "This value should be aoubt 303.993192\n"
     ]
    }
   ],
   "source": [
    "print('Cost at theta= [[1], [1]]: \"{0}\"\\nThis value should be aoubt 303.993192'.format(J))"
   ]
  },
  {
   "cell_type": "code",
   "execution_count": 245,
   "metadata": {},
   "outputs": [
    {
     "name": "stdout",
     "output_type": "stream",
     "text": [
      "Gradieng at theta = [[1],[1]]: [-15.303015674201186, 598.2507441727037\n",
      "This value should be about [-15.303016, 598.250744]\n"
     ]
    }
   ],
   "source": [
    "print('Gradieng at theta = [[1],[1]]: [{0}, {1}\\nThis value should be about [-15.303016, 598.250744]'.format(grad[0], grad[1]))"
   ]
  },
  {
   "cell_type": "markdown",
   "metadata": {},
   "source": [
    "Part 4: Train Linear Regression\n",
    "\n",
    "Once you have implemented the cost and gradient correctly, the trainLinearReg function will use your cost function to train regularized linear regression.\n",
    " \n",
    "Write Up Note: The data is non-linear, so this will not give a great fit.\n"
   ]
  },
  {
   "cell_type": "code",
   "execution_count": null,
   "metadata": {},
   "outputs": [],
   "source": []
  },
  {
   "cell_type": "code",
   "execution_count": null,
   "metadata": {},
   "outputs": [],
   "source": []
  }
 ],
 "metadata": {
  "kernelspec": {
   "display_name": "Python 3",
   "language": "python",
   "name": "python3"
  },
  "language_info": {
   "codemirror_mode": {
    "name": "ipython",
    "version": 3
   },
   "file_extension": ".py",
   "mimetype": "text/x-python",
   "name": "python",
   "nbconvert_exporter": "python",
   "pygments_lexer": "ipython3",
   "version": "3.6.4"
  }
 },
 "nbformat": 4,
 "nbformat_minor": 2
}
